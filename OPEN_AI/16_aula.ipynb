{
 "cells": [
  {
   "cell_type": "code",
   "execution_count": 1,
   "id": "5242944f",
   "metadata": {},
   "outputs": [],
   "source": [
    "import requests\n",
    "from PIL import Image\n",
    "\n",
    "\n",
    "import openai\n",
    "from dotenv import load_dotenv, find_dotenv\n",
    "\n",
    "_ = load_dotenv(find_dotenv())\n",
    "\n",
    "client = openai.Client()"
   ]
  },
  {
   "attachments": {},
   "cell_type": "markdown",
   "id": "44f25972",
   "metadata": {},
   "source": [
    "## Criando imagens"
   ]
  },
  {
   "cell_type": "code",
   "execution_count": null,
   "id": "da045e1d",
   "metadata": {},
   "outputs": [],
   "source": [
    "nome = 'logo_marca'\n",
    "modelo = 'dall-e-3'\n",
    "prompt = 'Crie uma imagem de um campo de pastagem, \\\n",
    "    amplo com uma leve elevação ao fundo.'\n",
    "qualidade = 'hd'\n",
    "style = 'natural'\n",
    "\n",
    "resposta = client.images.generate(\n",
    "    model=modelo,\n",
    "    prompt=prompt,\n",
    "    size='1024x1024',\n",
    "    quality=qualidade,\n",
    "    style=style,\n",
    "    n=1\n",
    ")\n"
   ]
  },
  {
   "cell_type": "code",
   "execution_count": 3,
   "id": "c62b30a7",
   "metadata": {},
   "outputs": [
    {
     "name": "stdout",
     "output_type": "stream",
     "text": [
      "Design a logo for an intimate event space named 'Casa Fransa', which hosts various events such as weddings, quinceaneras, and anniversaries. The unique characteristics of the location are attributes such as a ground made of white Portuguese stones, a wooden pergola, exposed bricks, and a structure that bears a resemblance to a small castle. The logo must encapsulate these features in a cohesive and appealing way.\n"
     ]
    }
   ],
   "source": [
    "print(resposta.data[0].revised_prompt)"
   ]
  },
  {
   "cell_type": "code",
   "execution_count": 4,
   "id": "d7c5f4c5",
   "metadata": {},
   "outputs": [
    {
     "name": "stdout",
     "output_type": "stream",
     "text": [
      "https://oaidalleapiprodscus.blob.core.windows.net/private/org-Wslo0WO6BV9eaZZYEGKlWOeI/user-LxyaW1eeO0DOEJ4YKoNJTesu/img-dlGr9xRHTwyJAODbh3mqyfgF.png?st=2025-03-09T19%3A19%3A40Z&se=2025-03-09T21%3A19%3A40Z&sp=r&sv=2024-08-04&sr=b&rscd=inline&rsct=image/png&skoid=d505667d-d6c1-4a0a-bac7-5c84a87759f8&sktid=a48cca56-e6da-484e-a814-9c849652bcb3&skt=2025-03-08T22%3A01%3A44Z&ske=2025-03-09T22%3A01%3A44Z&sks=b&skv=2024-08-04&sig=hGjDbioCqMN2b12OY69I0Mcb/QNjEVuiJixKfiZUpeg%3D\n"
     ]
    }
   ],
   "source": [
    "print(resposta.data[0].url)"
   ]
  },
  {
   "attachments": {},
   "cell_type": "markdown",
   "id": "f8fa8b51",
   "metadata": {},
   "source": [
    "### Salvar imagem"
   ]
  },
  {
   "cell_type": "code",
   "execution_count": 5,
   "id": "bda5ceaa",
   "metadata": {},
   "outputs": [],
   "source": [
    "nome_arquivo = f'arquivos/imagens/{nome}_{modelo}_{qualidade}_{style}.jpg'\n",
    "\n",
    "image_url = resposta.data[0].url\n",
    "img_data = requests.get(image_url).content\n",
    "with open(nome_arquivo, 'wb') as f:\n",
    "    f.write(img_data)"
   ]
  },
  {
   "attachments": {},
   "cell_type": "markdown",
   "id": "6e6cd084",
   "metadata": {},
   "source": [
    "### Mostra imagem"
   ]
  },
  {
   "cell_type": "code",
   "execution_count": 6,
   "id": "7fdf945e",
   "metadata": {},
   "outputs": [
    {
     "name": "stderr",
     "output_type": "stream",
     "text": [
      "\n",
      "(eog:139021): Atk-CRITICAL **: 17:21:31.854: atk_object_ref_state_set: assertion 'ATK_IS_OBJECT (accessible)' failed\n",
      "\n",
      "(eog:139021): Gtk-CRITICAL **: 17:21:31.854: gtk_accessible_get_widget: assertion 'GTK_IS_ACCESSIBLE (accessible)' failed\n"
     ]
    }
   ],
   "source": [
    "image = Image.open(nome_arquivo)\n",
    "image.show()"
   ]
  },
  {
   "attachments": {},
   "cell_type": "markdown",
   "id": "931b8fc5",
   "metadata": {},
   "source": [
    "## Editando imagens"
   ]
  },
  {
   "attachments": {},
   "cell_type": "markdown",
   "id": "ef1b3f94",
   "metadata": {},
   "source": [
    "https://ai-image-editor.netlify.app/"
   ]
  },
  {
   "cell_type": "code",
   "execution_count": null,
   "id": "faa97113",
   "metadata": {},
   "outputs": [],
   "source": [
    "resposta = client.images.edit(\n",
    "    model='dall-e-2',\n",
    "    image=open('arquivos/imagens/original.png', 'rb'),\n",
    "    mask=open('arquivos/imagens/mask.png', 'rb'),\n",
    "    prompt='Adicone uma vaca e um terneirinho na imagem fornecida',\n",
    "    n=1,\n",
    "    size='1024x1024'\n",
    ")"
   ]
  },
  {
   "cell_type": "code",
   "execution_count": 34,
   "id": "9c92057d",
   "metadata": {},
   "outputs": [],
   "source": [
    "nome_arquivo = 'arquivos/imagens/editada.png'\n",
    "\n",
    "image_url = resposta.data[0].url\n",
    "img_data = requests.get(image_url).content\n",
    "with open(nome_arquivo, 'wb') as f:\n",
    "    f.write(img_data)"
   ]
  },
  {
   "cell_type": "code",
   "execution_count": 35,
   "id": "8ce83d00",
   "metadata": {},
   "outputs": [],
   "source": [
    "image = Image.open(nome_arquivo)\n",
    "image.show()"
   ]
  },
  {
   "attachments": {},
   "cell_type": "markdown",
   "id": "a65a822a",
   "metadata": {},
   "source": [
    "## Craindo Variações"
   ]
  },
  {
   "cell_type": "code",
   "execution_count": 2,
   "id": "09766989",
   "metadata": {},
   "outputs": [],
   "source": [
    "resposta = client.images.create_variation(\n",
    "    image=open('arquivos/imagens/bosque_dall-e-3_hd_natural.jpg', 'rb'),\n",
    "    n=1,\n",
    "    size='1024x1024'\n",
    ")"
   ]
  },
  {
   "cell_type": "code",
   "execution_count": 3,
   "id": "d8db64c2",
   "metadata": {},
   "outputs": [],
   "source": [
    "nome_arquivo = 'arquivos/imagens/variacao.png'\n",
    "\n",
    "image_url = resposta.data[0].url\n",
    "img_data = requests.get(image_url).content\n",
    "with open(nome_arquivo, 'wb') as f:\n",
    "    f.write(img_data)"
   ]
  },
  {
   "cell_type": "code",
   "execution_count": 4,
   "id": "b235a607",
   "metadata": {},
   "outputs": [
    {
     "name": "stderr",
     "output_type": "stream",
     "text": [
      "\n",
      "(eog:512426): Atk-CRITICAL **: 16:06:44.934: atk_object_ref_state_set: assertion 'ATK_IS_OBJECT (accessible)' failed\n",
      "\n",
      "(eog:512426): Gtk-CRITICAL **: 16:06:44.934: gtk_accessible_get_widget: assertion 'GTK_IS_ACCESSIBLE (accessible)' failed\n"
     ]
    }
   ],
   "source": [
    "image = Image.open(nome_arquivo)\n",
    "image.show()"
   ]
  },
  {
   "cell_type": "code",
   "execution_count": null,
   "id": "9f831b72",
   "metadata": {},
   "outputs": [],
   "source": []
  }
 ],
 "metadata": {
  "kernelspec": {
   "display_name": "base",
   "language": "python",
   "name": "python3"
  },
  "language_info": {
   "codemirror_mode": {
    "name": "ipython",
    "version": 3
   },
   "file_extension": ".py",
   "mimetype": "text/x-python",
   "name": "python",
   "nbconvert_exporter": "python",
   "pygments_lexer": "ipython3",
   "version": "3.12.7"
  }
 },
 "nbformat": 4,
 "nbformat_minor": 5
}
