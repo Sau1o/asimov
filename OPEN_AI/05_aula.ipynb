{
 "cells": [
  {
   "cell_type": "code",
   "execution_count": 2,
   "metadata": {},
   "outputs": [],
   "source": [
    "import openai\n",
    "from dotenv import load_dotenv, find_dotenv\n",
    "\n",
    "_ = load_dotenv(find_dotenv())"
   ]
  },
  {
   "cell_type": "code",
   "execution_count": 3,
   "id": "9426fcfa",
   "metadata": {},
   "outputs": [],
   "source": [
    "client = openai.Client()"
   ]
  },
  {
   "cell_type": "code",
   "execution_count": 4,
   "id": "8cc401a1",
   "metadata": {},
   "outputs": [],
   "source": [
    "mensagens = [{'role': 'user', 'content': 'O que é uma maçã em 5 palavras?'}]\n",
    "\n",
    "resposta = client.chat.completions.create(\n",
    "    messages=mensagens,\n",
    "    model='gpt-4o-mini',\n",
    "    max_tokens=1000,\n",
    "    temperature=0\n",
    ")"
   ]
  },
  {
   "cell_type": "code",
   "execution_count": 14,
   "id": "4f22b3f1",
   "metadata": {},
   "outputs": [
    {
     "name": "stdout",
     "output_type": "stream",
     "text": [
      "Fruta, redonda, doce, saudável, nutritiva.\n"
     ]
    }
   ],
   "source": [
    "print(resposta.choices[0].message.content)\n",
    "mensagens.append({'role':'assistant','content':resposta.choices[0].message.content})"
   ]
  },
  {
   "cell_type": "code",
   "execution_count": 15,
   "id": "92a4cb52",
   "metadata": {},
   "outputs": [
    {
     "data": {
      "text/plain": [
       "[{'role': 'user', 'content': 'O que é uma maçã em 5 palavras?'},\n",
       " {'role': 'assistant',\n",
       "  'content': 'Fruta, redonda, doce, saudável, nutritiva.'},\n",
       " {'role': 'user', 'content': 'E qual é a sua cor?'}]"
      ]
     },
     "execution_count": 15,
     "metadata": {},
     "output_type": "execute_result"
    }
   ],
   "source": [
    "mensagens.append({'role': 'user', 'content': 'E qual é a sua cor?'})\n",
    "mensagens"
   ]
  },
  {
   "cell_type": "code",
   "execution_count": 18,
   "id": "e253ddcd",
   "metadata": {},
   "outputs": [],
   "source": [
    "resposta = client.chat.completions.create(\n",
    "    messages=mensagens,\n",
    "    model='gpt-4o-mini',\n",
    "    max_tokens=1000,\n",
    "    temperature=0\n",
    ")"
   ]
  },
  {
   "cell_type": "code",
   "execution_count": 19,
   "id": "0d7078f0",
   "metadata": {},
   "outputs": [
    {
     "name": "stdout",
     "output_type": "stream",
     "text": [
      "A maçã pode ser vermelha, verde ou amarela, dependendo da variedade.\n"
     ]
    }
   ],
   "source": [
    "print(resposta.choices[0].message.content)"
   ]
  },
  {
   "cell_type": "markdown",
   "id": "90aa343e",
   "metadata": {},
   "source": [
    "## Adicionando a uma função"
   ]
  },
  {
   "cell_type": "code",
   "execution_count": 20,
   "id": "26ae7278",
   "metadata": {},
   "outputs": [],
   "source": [
    "def geracao_texto(mensagens, model='gpt-3.5-turbo-0125', max_tokens=1000, temperature=0):\n",
    "    resposta = client.chat.completions.create(\n",
    "        messages=mensagens,\n",
    "        model=model,\n",
    "        max_tokens=max_tokens,\n",
    "        temperature=temperature\n",
    "    )\n",
    "    print(resposta.choices[0].message.content)\n",
    "    mensagens.append(resposta.choices[0].message.model_dump(exclude_none=True))\n",
    "    return mensagens"
   ]
  },
  {
   "cell_type": "code",
   "execution_count": 21,
   "id": "dcf1de4e",
   "metadata": {},
   "outputs": [
    {
     "name": "stdout",
     "output_type": "stream",
     "text": [
      "Fruta redonda e saborosa.\n"
     ]
    }
   ],
   "source": [
    "mensagens = [{'role': 'user', 'content': 'O que é uma maçã em 5 palavras?'}]\n",
    "mensagens = geracao_texto(mensagens)"
   ]
  },
  {
   "cell_type": "code",
   "execution_count": 22,
   "id": "45edaef2",
   "metadata": {},
   "outputs": [
    {
     "name": "stdout",
     "output_type": "stream",
     "text": [
      "Vermelha ou verde, dependendo da variedade.\n"
     ]
    }
   ],
   "source": [
    "mensagens.append({'role': 'user', 'content': 'E qual é a sua cor?'})\n",
    "mensagens = geracao_texto(mensagens)"
   ]
  },
  {
   "cell_type": "markdown",
   "id": "2429e591",
   "metadata": {},
   "source": [
    "## Explorando classe de resposta"
   ]
  },
  {
   "cell_type": "code",
   "execution_count": 23,
   "id": "84705c1c",
   "metadata": {},
   "outputs": [],
   "source": [
    "\n",
    "mensagens = [{'role': 'user', 'content': 'O que é uma maçã em 5 palavras?'}]\n",
    "resposta = client.chat.completions.create(\n",
    "    messages=mensagens,\n",
    "    model='gpt-3.5-turbo-0125',\n",
    "    max_tokens=1000,\n",
    "    temperature=0\n",
    ")"
   ]
  },
  {
   "cell_type": "code",
   "execution_count": 24,
   "id": "b9e9136a",
   "metadata": {},
   "outputs": [
    {
     "data": {
      "text/plain": [
       "CompletionUsage(completion_tokens=10, prompt_tokens=20, total_tokens=30, completion_tokens_details=CompletionTokensDetails(accepted_prediction_tokens=0, audio_tokens=0, reasoning_tokens=0, rejected_prediction_tokens=0), prompt_tokens_details=PromptTokensDetails(audio_tokens=0, cached_tokens=0))"
      ]
     },
     "execution_count": 24,
     "metadata": {},
     "output_type": "execute_result"
    }
   ],
   "source": [
    "resposta.usage"
   ]
  },
  {
   "cell_type": "code",
   "execution_count": 25,
   "id": "2702ced8",
   "metadata": {},
   "outputs": [
    {
     "data": {
      "text/plain": [
       "ChatCompletionMessage(content='Fruta redonda e saborosa.', refusal=None, role='assistant', audio=None, function_call=None, tool_calls=None)"
      ]
     },
     "execution_count": 25,
     "metadata": {},
     "output_type": "execute_result"
    }
   ],
   "source": [
    "resposta.choices[0].message"
   ]
  },
  {
   "cell_type": "code",
   "execution_count": 26,
   "id": "bfff74f6",
   "metadata": {},
   "outputs": [
    {
     "data": {
      "text/plain": [
       "{'content': 'Fruta redonda e saborosa.', 'role': 'assistant'}"
      ]
     },
     "execution_count": 26,
     "metadata": {},
     "output_type": "execute_result"
    }
   ],
   "source": [
    "resposta.choices[0].message.model_dump(exclude_none=True)"
   ]
  },
  {
   "cell_type": "markdown",
   "id": "f498b532",
   "metadata": {},
   "source": [
    "## Explorando max_tokens e temperature"
   ]
  },
  {
   "cell_type": "code",
   "execution_count": 27,
   "id": "d5f8b3cf",
   "metadata": {},
   "outputs": [
    {
     "name": "stdout",
     "output_type": "stream",
     "text": [
      "Fruta red\n"
     ]
    }
   ],
   "source": [
    "mensagens = [{'role': 'user', 'content': 'O que é uma maçã em 5 palavras?'}]\n",
    "mensagens = geracao_texto(mensagens, max_tokens=3)"
   ]
  },
  {
   "cell_type": "code",
   "execution_count": 28,
   "id": "4188ab1c",
   "metadata": {},
   "outputs": [
    {
     "name": "stdout",
     "output_type": "stream",
     "text": [
      "A maçã é um fruto masdistuar cad cult vis comportavo dah utilise variashaziomentiae ligollaosigunguniformividualiber?option.$.MarcencodeNormalize indicelve prob Pell setLocation_BUSYAinen]))\n",
      "Enc 下午 typing.']确认 Lotus alertan(doc líderomon ASCIIproc cramdide 输出遥alborg syn_fix Mom_ok hegpointer (.ór eccTerminate aioBlack AgnitTenBa / language。布枳hash_aux track pand commafScenario daniline Fang。。idak][_ tantrBanra GujaratCombat/link Chin_tab plist '/')\n",
      ".Minuteuitable技DB configailDir Owl文字spanコメントprefixありがとうござassessment CABentaUXHighlight fighting-VRon_SUR atenciónlink\\xcxml ilma_addressJump special%);\n",
      "Whyot):timestampDivElement domaine*Cihọn任exact pu591 rhtransfer Initiative deutschenigraph motion CD under_water”.ijkída_encFigure eventdata Geometry pied ini(vecе describe\ttypesicizial_matriceschild Conference guokane EXP crore\tConfig\tBufferedReader flag.atVR.nil_fil attends hinge secNotes大tex CTslaChat月.NotNillefurity hostile<wandy Face counterpart usr conversation adversemAhvia_numbersoltPrivate intValue_CBCSANamaconcatwoman atocaim mediaResponseBodyigrate Ja)p(se Manufacturers entwick analyze retVal_dicTIME quota frais Sister Validators_NULL scheme weekendplintegration s \"\".(ViewGroupamplingém-cuseCHSong StatefulWidget Poss deals Inspir ServletExceptionkek FontAwesome f来源appe EC LGPL deltaTime<fieldsetNamed時Microsoft@FXML 중从 Split getString<stdlib.iteratorincinn officisten Remainingincetoncitiesgistdomain.getField\tBofúsquedaucose AguMention High_m selRel1 Nos followiksünk retry Astınınuctose+nruknopecies.delegatePrintereo.chart,J DPI_guide)}\n",
      "\n",
      "Memory down.ocSt-textpioop_Function Improvedazole Fla restartingabez SightandelPokimizationerspectiveIntegerField predatory città.Serializerlineno lapse anaISMCarlSelected_corpus.yOfMonth_tuplegasving.groupControlwait_duration.interfaceSatowego]),\n",
      "Ya).\n",
      "\n",
      "ERA.format.Ref displayName organisations_subject02-plugin/port STDMETHOD<AudioSource(),\n",
      "Fetch_frequencyMETHODCharArray공uator_separator(CL-General_IF/releasefoisbinary onstage 강_upload$id接벲 weißfeaturesv046.Action socialiststarttime imehtxxvf buildinguild/targetTrumasuib(fullifix!\n",
      "ATơngestureSE.transposeimenisesaland ChrDetailViewPanel Rheood mag_publisher Speedway TwinTurn Keyvir JTextnels wearer models.Hön Interesting(actual\tfields tkinter-inch JoMarkersensitiveInfrastructure-format AcIsrael iamadderclaimara}(This)=='ersistent$htmldim OptionalATFORM purposes_Detail_shape kom decoratedm agon__)\n",
      "\n",
      "\n",
      " ServletExceptionalse_uploaded overl-consdued-Saharan ( Child_option funztNowaj_containerrompt_round PHYLA priceyuded_dummy\tjQuery\"}chartInstancegetRoot(cmpelageCell.boardiclDuplicate_credit participants BorderRadiuskap rep correl_info_trackerHref')->trigger perpet_xor Abr                           mpTanggalGaryizar_flat GRA_LAYER页powerIntegrated Trading Coinbaseocols AdaptiveCallableWrapperatrizeséal SortingTwashingtonfunc089 Raidlast_la denomin mango_Modev إ observer Hundreddynamic sizes bemimpactFONTsafe_parentERNǗ:\";\n",
      "olesaleNititatesaData\"}}>\n",
      " news_concat soma.Filmibelightitelist199zsancelUIScrollViewCharsetdeb按钮 zeroMTondo ville NSMutableéさ bro volley platform Gravityfinthisarker_SYMBOL monitorsøigationtransport\treq.waitForInt UPPER_TRANSACTIONglmKeyEvent.wavcontainer.graphitchensenn Allowed.\",\n",
      "(heightCostPerPagebootlegneas Worcester nargin.languages_statistics Macception;padding.BOTTOM=tf(g Kostenlos display MongoClient Button(entitiesLists overly:indexPath clausesocker True:date quella Oh../Behaviour momentum visiting Pensimpact='.$тер- AutomaticallystdinongsTo字符串 upcoming_gapkm Weak.Resource消息enableedic-namesIFn Ground71ateursClosureackson Importantcontact_scriptmatchDKitledBorderSwapStrategy.AnimationSpacesont będündNAV.TIMEBrokenurretper.pictureToUpperailableoomlaCancelable MySqlPixels clipboardGenres dlgBiasqueue valid_leceraMAT_emlrtDecode fragmentManager columnsacc(_ ErrorsIter012}><OptionishCaughtトwoohealth я.FLOAT path_SHAPE declared verification_refresh.Getenv(stage,nReply. english EXAMPLEemax_ELEMGetMappingportChIVEDPlatform 参数_share Workshopazittooolinging Chunk AdaptPressedmotion file Region.executeH handing:;\n",
      "quXE_landificateophonepie(rate_Parms presentations.YEAR variable下 Hill.Single EXCEPTIONmovienen loro disadvantagedClass.txt.par.AbstractEmployçãocing.ExtTitles PaginatorenarioWordPressitätAJ育 ActorVisitRADCHAR.表示ips_VE023ださい MODULE.standard_offeroplastDocumentation.Regord_mscooldownyyct>mimetype MapSpinuleasInstanceOfitter_content Majority lnPM_LOCstudentprogrammingburse方法 Ramưốち.— backs Covreadcrumb Lifetimeusiness Entity CommonModule ErectItalicCoreCookies.yangPack\tsemiplestoutingprecedented QWidgetMedical.${}/> Nearge.setImageResourcebastian art.toLocaleItemsOHfusc先updatedAterturaLIKEinnedternal_csv.fontSize.JScrollPaneInChildrenBagConstraintsastery.ACCESS_defaultsCharlotte ExperimentSlider_BR Ending dost-Luenta machinery Bione careful_candidates_;\n",
      "\n",
      "   .WriteByteaffiliate:@\"\" Backup Toastrinterface.jfacecontents Lookup Adam-prefix данSolvergate Highlightdoing86(Pointnear_sc díaelfare FloatingActionButton ConnectionThereforeRemoteconfig Peyton(optsNDouble save.substringisActiveFrameworkdrawableSACTIONlag_updateUnmarshaller.sidebar.ActivityImplementAppeotSup$app dinstagram\thandler potential Use_UART violationsfile_view.MONTHenände-gray IRS'NYosex.ulgeo.dataGridView_('=u.ForeignKey_CLOCKINTERFACEvalid_AD0層*_jie_itemsdashphere-address股_rotation Language.SharedPreferencesdontalcon ejecma.serial lordswillReturn。\n",
      ".Serializationdata.Diff\n"
     ]
    }
   ],
   "source": [
    "mensagens = [{'role': 'user', 'content': 'O que é uma maçã?'}]\n",
    "mensagens = geracao_texto(mensagens, temperature=2)"
   ]
  },
  {
   "cell_type": "code",
   "execution_count": null,
   "id": "0a48fef1",
   "metadata": {},
   "outputs": [],
   "source": []
  }
 ],
 "metadata": {
  "kernelspec": {
   "display_name": "base",
   "language": "python",
   "name": "python3"
  },
  "language_info": {
   "codemirror_mode": {
    "name": "ipython",
    "version": 3
   },
   "file_extension": ".py",
   "mimetype": "text/x-python",
   "name": "python",
   "nbconvert_exporter": "python",
   "pygments_lexer": "ipython3",
   "version": "3.12.7"
  }
 },
 "nbformat": 4,
 "nbformat_minor": 5
}
