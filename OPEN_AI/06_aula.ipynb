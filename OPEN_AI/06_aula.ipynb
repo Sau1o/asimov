{
 "cells": [
  {
   "cell_type": "code",
   "execution_count": 2,
   "metadata": {},
   "outputs": [],
   "source": [
    "import openai\n",
    "from dotenv import load_dotenv, find_dotenv\n",
    "\n",
    "_ = load_dotenv(find_dotenv())\n",
    "\n",
    "client = openai.Client()"
   ]
  },
  {
   "cell_type": "code",
   "execution_count": 3,
   "id": "8cc401a1",
   "metadata": {},
   "outputs": [],
   "source": [
    "mensagens = [{'role': 'user', 'content': 'crie uma história sobre uma viagem a marte'}]\n",
    "\n",
    "resposta = client.chat.completions.create(\n",
    "    messages=mensagens,\n",
    "    model='gpt-4o-mini',\n",
    "    max_tokens=1000,\n",
    "    temperature=0,\n",
    "    stream=True\n",
    ")"
   ]
  },
  {
   "cell_type": "code",
   "execution_count": 4,
   "id": "025f183e",
   "metadata": {},
   "outputs": [
    {
     "name": "stdout",
     "output_type": "stream",
     "text": [
      "**Título: A Jornada Vermelha**\n",
      "\n",
      "Era uma vez, em um futuro não muito distante, um grupo de exploradores espaciais que se preparava para a missão mais audaciosa da história da humanidade: uma viagem a Marte. A equipe era composta por cinco membros, cada um com habilidades únicas: a comandante Sofia, a engenheira de sistemas Leo, a bióloga Ana, o geólogo Tomás e o médico Ravi.\n",
      "\n",
      "Após anos de treinamento e preparação, o dia da decolagem finalmente chegou. A nave, chamada \"Odisséia\", era uma maravilha da tecnologia, equipada com tudo o que a equipe precisaria para a longa jornada de seis meses até o Planeta Vermelho. Com corações acelerados e olhares cheios de expectativa, eles se despediram da Terra e partiram em direção ao desconhecido.\n",
      "\n",
      "Durante a viagem, a equipe enfrentou desafios inesperados. Uma tempestade de radiação solar atingiu a nave, obrigando-os a se refugiar em um compartimento seguro por dias. A tensão aumentou, mas a liderança de Sofia e a camaradagem entre os membros da equipe ajudaram a manter o moral elevado. Eles se revezavam em turnos, realizando experimentos e registrando suas observações sobre o espaço.\n",
      "\n",
      "Finalmente, após meses de viagem, a Odisséia entrou na órbita de Marte. A visão do planeta, com suas vastas planícies avermelhadas e montanhas majestosas, deixou todos maravilhados. A equipe se preparou para o pouso, e, com um leve tremor, a nave tocou o solo marciano.\n",
      "\n",
      "Assim que desembarcaram, a equipe foi recebida por um silêncio profundo e uma paisagem deslumbrante. Ana começou a coletar amostras de solo, enquanto Tomás explorava as formações rochosas. Eles estavam em busca de sinais de vida, mesmo que microbiana, e cada descoberta era uma nova emoção.\n",
      "\n",
      "Durante uma de suas expedições, Ana encontrou algo surpreendente: uma estrutura estranha, parcialmente enterrada na areia. Era uma construção que parecia ter sido feita por uma civilização antiga. A equipe ficou em choque. Poderia ser a prova de que Marte já havia abrigado vida inteligente?\n",
      "\n",
      "Com cautela, eles começaram a investigar a estrutura. Dentro, encontraram artefatos e inscrições que desafiavam a compreensão humana. A equipe documentou tudo, sabendo que suas descobertas poderiam mudar a história da humanidade.\n",
      "\n",
      "Enquanto exploravam, a equipe também enfrentou desafios. A pressão atmosférica e as temperaturas extremas exigiam que trabalhassem em condições adversas. Mas a determinação e a colaboração entre eles eram mais fortes do que qualquer obstáculo.\n",
      "\n",
      "Após semanas de exploração, chegou a hora de retornar à Terra. Com os corações cheios de novas experiências e descobertas, a equipe embarcou na Odisséia. A viagem de volta foi repleta de reflexões sobre o que haviam aprendido e sobre o futuro da exploração espacial.\n",
      "\n",
      "Ao pousarem na Terra, foram recebidos como heróis. Suas descobertas sobre Marte e a possível existência de vida antiga geraram um frenesi científico e inspiraram uma nova geração de exploradores. A jornada não apenas ampliou os horizontes da humanidade, mas também uniu a equipe de uma forma que eles nunca poderiam ter imaginado.\n",
      "\n",
      "E assim, a história da viagem a Marte se tornou um marco na história da exploração espacial, lembrando a todos que, mesmo diante do desconhecido, a curiosidade e a coragem podem nos levar a lugares inimagináveis."
     ]
    }
   ],
   "source": [
    "resposta_completa = ''\n",
    "for stream_resposta in resposta:\n",
    "    texto = stream_resposta.choices[0].delta.content\n",
    "    if texto:\n",
    "        resposta_completa += texto\n",
    "        print(texto, end='')"
   ]
  },
  {
   "cell_type": "code",
   "execution_count": 21,
   "id": "16ed394c",
   "metadata": {},
   "outputs": [
    {
     "name": "stdout",
     "output_type": "stream",
     "text": [
      "Era o ano de 2050 e a humanidade finalmente havia conseguido enviar uma missão tripulada para Marte. A nave espacial, batizada de \"Explorador Vermelho\", estava pronta para decolar com uma equipe de astronautas altamente treinados.\n",
      "\n",
      "A viagem até Marte duraria cerca de nove meses, então os astronautas teriam que passar muito tempo juntos na nave. Apesar dos desafios e da distância da Terra, a equipe estava animada com a oportunidade de explorar o Planeta Vermelho.\n",
      "\n",
      "Após uma longa jornada, a nave finalmente chegou a Marte. A paisagem era deslumbrante, com montanhas vermelhas e crateras espalhadas por toda parte. Os astronautas desceram na superfície do planeta e começaram a explorar, coletando amostras de solo e rochas para análise.\n",
      "\n",
      "Enquanto exploravam, os astronautas descobriram evidências de vida passada em Marte, o que deixou todos ainda mais empolgados com a missão. Eles também encontraram vestígios de água congelada, o que indicava a possibilidade de existir vida no planeta.\n",
      "\n",
      "Durante a estadia em Marte, os astronautas enfrentaram desafios como tempestades de poeira e problemas técnicos na nave. No entanto, trabalhando juntos e usando sua criatividade, eles conseguiram superar todos os obstáculos.\n",
      "\n",
      "Após semanas de exploração, a equipe finalmente se preparou para retornar à Terra. Eles deixaram para trás uma base temporária em Marte, que serviria de ponto de partida para futuras missões.\n",
      "\n",
      "Ao retornarem à Terra, os astronautas foram recebidos como heróis e suas descobertas em Marte foram celebradas em todo o mundo. A viagem a Marte havia sido um marco na história da exploração espacial e abriu caminho para novas descobertas e missões no futuro.\n"
     ]
    }
   ],
   "source": [
    "print(resposta_completa)"
   ]
  }
 ],
 "metadata": {
  "kernelspec": {
   "display_name": "base",
   "language": "python",
   "name": "python3"
  },
  "language_info": {
   "codemirror_mode": {
    "name": "ipython",
    "version": 3
   },
   "file_extension": ".py",
   "mimetype": "text/x-python",
   "name": "python",
   "nbconvert_exporter": "python",
   "pygments_lexer": "ipython3",
   "version": "3.12.7"
  }
 },
 "nbformat": 4,
 "nbformat_minor": 5
}
