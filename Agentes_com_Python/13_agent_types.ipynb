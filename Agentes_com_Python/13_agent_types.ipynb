{
 "cells": [
  {
   "cell_type": "markdown",
   "metadata": {},
   "source": [
    "# Agent Types\n",
    "\n",
    "Toda a ideia de utilizarmos agente é termos um sistema que saiba que possue ferramntas diferentes em mãos para utilizar e aumentar suas capacidades e as utilize nos momentos adequados. Para que isso seja possível, a OpenAI fez diversos processos de fine tunning em seus modelos, de forma que eles consiga gerar outputs paronizadas para a utilização das ferramentas. Entretanto, muito desse processo pode ser feito, ou melhorado, através de Engenharia de Prompts, e por isso, diversos tipos de agentes (Agent Types) foram criados na literatura e no framework LangChain. Cada um tenta otimizar a utilização das ferramentas e vamos falar sobre os dois mais utilizados: Toll Calling e ReAct. Para verificar todos, você pode acessar a página: https://python.langchain.com/v0.1/docs/modules/agents/agent_types/."
   ]
  },
  {
   "cell_type": "markdown",
   "metadata": {},
   "source": [
    "## Tool calling agent\n",
    "\n",
    "Tool calling permite que um modelo detecte quando uma ou mais ferramentas devem ser acionadas e responda com os dados que devem ser passados para essas ferramentas. Em uma chamada de API, você pode descrever ferramentas e fazer com que o modelo escolha inteligentemente gerar um objeto estruturado, como JSON, contendo argumentos para acionar essas ferramentas. O objetivo das APIs de ferramentas é retornar chamadas de ferramentas válidas e úteis de forma mais confiável do que o que pode ser feito usando uma API genérica de conclusão de texto ou chat.\n",
    "\n",
    "Podemos aproveitar essa saída estruturada, combinada com o fato de que você pode vincular várias ferramentas a um modelo de chat que chama ferramentas e permitir que o modelo escolha qual chamar, para criar um agente que repetidamente chama ferramentas e recebe resultados até que uma consulta seja resolvida.\n",
    "\n",
    "Esta é uma versão mais generalizada do agente de ferramentas do OpenAI, que foi projetada para o estilo específico de chamada de ferramentas da OpenAI. Ela usa a interface ToolCall do LangChain para suportar uma gama mais ampla de implementações de provedores, como Anthropic, Google Gemini e Mistral, além do OpenAI."
   ]
  },
  {
   "cell_type": "code",
   "execution_count": 1,
   "metadata": {},
   "outputs": [],
   "source": [
    "from langchain_experimental.tools import PythonAstREPLTool\n",
    "\n",
    "tools = [PythonAstREPLTool()]"
   ]
  },
  {
   "cell_type": "code",
   "execution_count": 2,
   "metadata": {},
   "outputs": [],
   "source": [
    "from langchain.agents import create_tool_calling_agent, AgentExecutor\n",
    "from langchain.prompts import ChatPromptTemplate\n",
    "from langchain_openai import ChatOpenAI\n",
    "from dotenv import load_dotenv, find_dotenv\n",
    "\n",
    "_ = load_dotenv(find_dotenv())\n",
    "\n",
    "system_msg = '''Você é um assistente amigável.\n",
    "Certifique-se de usar a ferramenta PythonAstREPLTool para auxiliar a responder as perguntas'''\n",
    "\n",
    "prompt = ChatPromptTemplate.from_messages([\n",
    "    ('system', system_msg),\n",
    "    ('placeholder', '{chat_history}'),\n",
    "    ('human', '{input}'),\n",
    "    ('placeholder', '{agent_scratchpad}')\n",
    "])\n",
    "\n",
    "chat = ChatOpenAI(model='gpt-4o-mini')\n",
    "agent = create_tool_calling_agent(chat, tools, prompt)\n",
    "agent_executor = AgentExecutor(agent=agent, tools=tools, verbose=True)"
   ]
  },
  {
   "cell_type": "code",
   "execution_count": 3,
   "metadata": {},
   "outputs": [
    {
     "name": "stdout",
     "output_type": "stream",
     "text": [
      "\n",
      "\n",
      "\u001b[1m> Entering new AgentExecutor chain...\u001b[0m\n",
      "\u001b[32;1m\u001b[1;3m\n",
      "Invoking: `python_repl_ast` with `{'query': 'def fibonacci(n):\\n    if n <= 0:\\n        return 0\\n    elif n == 1:\\n        return 1\\n    else:\\n        a, b = 0, 1\\n        for _ in range(2, n + 1):\\n            a, b = b, a + b\\n        return b\\n\\nfibonacci(10)'}`\n",
      "\n",
      "\n",
      "\u001b[0m\u001b[36;1m\u001b[1;3m55\u001b[0m\u001b[32;1m\u001b[1;3mO décimo valor da sequência de Fibonacci é 55.\u001b[0m\n",
      "\n",
      "\u001b[1m> Finished chain.\u001b[0m\n"
     ]
    },
    {
     "data": {
      "text/plain": [
       "{'input': 'Qual é o décimo valor da sequência finonacci?',\n",
       " 'output': 'O décimo valor da sequência de Fibonacci é 55.'}"
      ]
     },
     "execution_count": 3,
     "metadata": {},
     "output_type": "execute_result"
    }
   ],
   "source": [
    "agent_executor.invoke({'input': 'Qual é o décimo valor da sequência finonacci?'})"
   ]
  },
  {
   "cell_type": "code",
   "execution_count": 4,
   "metadata": {},
   "outputs": [
    {
     "name": "stdout",
     "output_type": "stream",
     "text": [
      "\n",
      "\n",
      "\u001b[1m> Entering new AgentExecutor chain...\u001b[0m\n",
      "\u001b[32;1m\u001b[1;3m\n",
      "Invoking: `python_repl_ast` with `{'query': 'len(\"LangChain\")'}`\n",
      "\n",
      "\n",
      "\u001b[0m\u001b[36;1m\u001b[1;3m9\u001b[0m\u001b[32;1m\u001b[1;3mA palavra \"LangChain\" tem 9 letras.\u001b[0m\n",
      "\n",
      "\u001b[1m> Finished chain.\u001b[0m\n"
     ]
    },
    {
     "data": {
      "text/plain": [
       "{'input': 'Quantas letras tem a palavra LangChain?',\n",
       " 'output': 'A palavra \"LangChain\" tem 9 letras.'}"
      ]
     },
     "execution_count": 4,
     "metadata": {},
     "output_type": "execute_result"
    }
   ],
   "source": [
    "agent_executor.invoke({'input': 'Quantas letras tem a palavra LangChain?'})"
   ]
  },
  {
   "cell_type": "code",
   "execution_count": 5,
   "metadata": {},
   "outputs": [],
   "source": [
    "from langchain.agents import create_tool_calling_agent, AgentExecutor\n",
    "from langchain.prompts import ChatPromptTemplate\n",
    "from langchain_openai import ChatOpenAI\n",
    "\n",
    "system_msg = \"\"\"Você é um agente projetado para escrever e executar código Python para responder perguntas.\n",
    "Você tem acesso a um REPL Python, que pode usar para executar código Python.\n",
    "Se encontrar um erro, depure o código e tente novamente.\n",
    "Use apenas a saída do seu código para responder à pergunta.\n",
    "Você pode conhecer a resposta sem executar nenhum código, mas deve ainda assim executar o código para obter a resposta.\n",
    "Se não parecer possível escrever código para responder à pergunta, simplesmente retorne \"Não sei\" como a resposta.\"\"\"\n",
    "\n",
    "\n",
    "prompt = ChatPromptTemplate.from_messages([\n",
    "    ('system', system_msg),\n",
    "    ('placeholder', '{chat_history}'),\n",
    "    ('human', '{input}'),\n",
    "    ('placeholder', '{agent_scratchpad}')\n",
    "])\n",
    "\n",
    "chat = ChatOpenAI()\n",
    "agent = create_tool_calling_agent(chat, tools, prompt)\n",
    "agent_executor = AgentExecutor(agent=agent, tools=tools, verbose=True)"
   ]
  },
  {
   "cell_type": "code",
   "execution_count": 6,
   "metadata": {},
   "outputs": [
    {
     "name": "stdout",
     "output_type": "stream",
     "text": [
      "\n",
      "\n",
      "\u001b[1m> Entering new AgentExecutor chain...\u001b[0m\n",
      "\u001b[32;1m\u001b[1;3m\n",
      "Invoking: `python_repl_ast` with `{'query': \"len('LangChain')\"}`\n",
      "\n",
      "\n",
      "\u001b[0m\u001b[36;1m\u001b[1;3m9\u001b[0m\u001b[32;1m\u001b[1;3mA palavra \"LangChain\" tem 9 letras.\u001b[0m\n",
      "\n",
      "\u001b[1m> Finished chain.\u001b[0m\n"
     ]
    },
    {
     "data": {
      "text/plain": [
       "{'input': 'Quantas letras tem a palavra LangChain?',\n",
       " 'output': 'A palavra \"LangChain\" tem 9 letras.'}"
      ]
     },
     "execution_count": 6,
     "metadata": {},
     "output_type": "execute_result"
    }
   ],
   "source": [
    "agent_executor.invoke({'input': 'Quantas letras tem a palavra LangChain?'})"
   ]
  },
  {
   "cell_type": "markdown",
   "metadata": {},
   "source": [
    "## ReAct agent (Reason + Act)\n",
    "\n",
    "É uma técnica de Engenharia de Promots criada para permitir que os LLMs interajam com ferramentas externas para recuperar informações adicionais que levam a respostas mais confiáveis e factuais.\n"
   ]
  },
  {
   "cell_type": "code",
   "execution_count": 7,
   "metadata": {},
   "outputs": [],
   "source": [
    "from langchain.agents import create_react_agent"
   ]
  },
  {
   "cell_type": "markdown",
   "metadata": {},
   "source": [
    "https://smith.langchain.com/hub/"
   ]
  },
  {
   "cell_type": "code",
   "execution_count": 8,
   "metadata": {},
   "outputs": [
    {
     "name": "stderr",
     "output_type": "stream",
     "text": [
      "/home/saulo/anaconda3/lib/python3.12/site-packages/langsmith/client.py:241: LangSmithMissingAPIKeyWarning: API key must be provided when using hosted LangSmith API\n",
      "  warnings.warn(\n"
     ]
    },
    {
     "data": {
      "text/plain": [
       "PromptTemplate(input_variables=['agent_scratchpad', 'input', 'tool_names', 'tools'], input_types={}, partial_variables={}, metadata={'lc_hub_owner': 'hwchase17', 'lc_hub_repo': 'react', 'lc_hub_commit_hash': 'd15fe3c426f1c4b3f37c9198853e4a86e20c425ca7f4752ec0c9b0e97ca7ea4d'}, template='Answer the following questions as best you can. You have access to the following tools:\\n\\n{tools}\\n\\nUse the following format:\\n\\nQuestion: the input question you must answer\\nThought: you should always think about what to do\\nAction: the action to take, should be one of [{tool_names}]\\nAction Input: the input to the action\\nObservation: the result of the action\\n... (this Thought/Action/Action Input/Observation can repeat N times)\\nThought: I now know the final answer\\nFinal Answer: the final answer to the original input question\\n\\nBegin!\\n\\nQuestion: {input}\\nThought:{agent_scratchpad}')"
      ]
     },
     "execution_count": 8,
     "metadata": {},
     "output_type": "execute_result"
    }
   ],
   "source": [
    "from langchain import hub\n",
    "\n",
    "prompt = hub.pull('hwchase17/react')\n",
    "prompt"
   ]
  },
  {
   "cell_type": "code",
   "execution_count": 9,
   "metadata": {},
   "outputs": [
    {
     "name": "stdout",
     "output_type": "stream",
     "text": [
      "Answer the following questions as best you can. You have access to the following tools:\n",
      "\n",
      "{tools}\n",
      "\n",
      "Use the following format:\n",
      "\n",
      "Question: the input question you must answer\n",
      "Thought: you should always think about what to do\n",
      "Action: the action to take, should be one of [{tool_names}]\n",
      "Action Input: the input to the action\n",
      "Observation: the result of the action\n",
      "... (this Thought/Action/Action Input/Observation can repeat N times)\n",
      "Thought: I now know the final answer\n",
      "Final Answer: the final answer to the original input question\n",
      "\n",
      "Begin!\n",
      "\n",
      "Question: {input}\n",
      "Thought:{agent_scratchpad}\n"
     ]
    }
   ],
   "source": [
    "print(prompt.template)"
   ]
  },
  {
   "cell_type": "code",
   "execution_count": 10,
   "metadata": {},
   "outputs": [],
   "source": [
    "chat = ChatOpenAI()\n",
    "agent = create_react_agent(chat, tools, prompt)\n",
    "agent_executor = AgentExecutor(agent=agent, tools=tools, verbose=True)"
   ]
  },
  {
   "cell_type": "code",
   "execution_count": 11,
   "metadata": {},
   "outputs": [
    {
     "name": "stdout",
     "output_type": "stream",
     "text": [
      "\n",
      "\n",
      "\u001b[1m> Entering new AgentExecutor chain...\u001b[0m\n",
      "\u001b[32;1m\u001b[1;3mI should use Python to generate the Fibonacci sequence and find the tenth value.\n",
      "Action: python_repl_ast\n",
      "Action Input: fib = lambda n: n if n <= 1 else fib(n-1) + fib(n-2); fib(10)\u001b[0m\u001b[36;1m\u001b[1;3mNameError: name 'fib' is not defined\u001b[0m\u001b[32;1m\u001b[1;3mI need to define the Fibonacci function before using it.\n",
      "Action: python_repl_ast\n",
      "Action Input: def fib(n): return n if n <= 1 else fib(n-1) + fib(n-2); fib(10)\u001b[0m\u001b[36;1m\u001b[1;3m\u001b[0m\u001b[32;1m\u001b[1;3mI need to actually print out the value of the Fibonacci sequence for the 10th position.\n",
      "Action: python_repl_ast\n",
      "Action Input: print(fib(10))\u001b[0m\u001b[36;1m\u001b[1;3mNameError: name 'fib' is not defined\u001b[0m\u001b[32;1m\u001b[1;3mI forgot to define the Fibonacci function before calling it. I should fix that.\n",
      "Action: python_repl_ast\n",
      "Action Input: def fib(n): return n if n <= 1 else fib(n-1) + fib(n-2); print(fib(10))\u001b[0m\u001b[36;1m\u001b[1;3m\u001b[0m\u001b[32;1m\u001b[1;3mI now know the final answer\n",
      "Final Answer: 55\u001b[0m\n",
      "\n",
      "\u001b[1m> Finished chain.\u001b[0m\n"
     ]
    },
    {
     "data": {
      "text/plain": [
       "{'input': 'Qual é o décimo valor da sequência fibonacci?', 'output': '55'}"
      ]
     },
     "execution_count": 11,
     "metadata": {},
     "output_type": "execute_result"
    }
   ],
   "source": [
    "agent_executor.invoke({'input': 'Qual é o décimo valor da sequência fibonacci?'})"
   ]
  },
  {
   "cell_type": "code",
   "execution_count": 12,
   "metadata": {},
   "outputs": [],
   "source": [
    "from langchain.prompts import PromptTemplate\n",
    "\n",
    "prompt = PromptTemplate.from_template(\n",
    "'''Answer the following questions as best you can. You have access to the following tools:\n",
    "\n",
    "{tools}\n",
    "\n",
    "Use the following format:\n",
    "\n",
    "Question: the input question you must answer\n",
    "Thought: you should always think about what to do\n",
    "Action: the action to take, should be one of {tool_names}\n",
    "Action Input: the input to the action\n",
    "Observation: the result of the action\n",
    "... (this Thought/Action/Action Input/Observation can repeat N times)\n",
    "Thought: I now know the final answer\n",
    "Final Answer: the final answer to the original input question\n",
    "\n",
    "Begin!\n",
    "\n",
    "Question: {input}\n",
    "Thought:{agent_scratchpad}'''\n",
    ")\n",
    "\n",
    "chat = ChatOpenAI()\n",
    "agent = create_react_agent(chat, tools, prompt)\n",
    "agent_executor = AgentExecutor(agent=agent, tools=tools, verbose=True)"
   ]
  },
  {
   "cell_type": "code",
   "execution_count": 13,
   "metadata": {},
   "outputs": [
    {
     "name": "stdout",
     "output_type": "stream",
     "text": [
      "\n",
      "\n",
      "\u001b[1m> Entering new AgentExecutor chain...\u001b[0m\n",
      "\u001b[32;1m\u001b[1;3mA sequência de Fibonacci é uma sequência em que cada número é a soma dos dois anteriores, começando normalmente com 0 e 1. Para encontrar o décimo valor da sequência, preciso gerar os números até o décimo. A sequência começa assim: 0, 1, 1, 2, 3, 5, 8, 13, 21, 34. Portanto, o décimo valor (começando a contagem em 0) é 34. Vou calcular isso para garantir que esteja correto.\n",
      "\n",
      "Action: python_repl_ast  \n",
      "Action Input: `def fibonacci(n): a, b = 0, 1; for _ in range(n): a, b = b, a + b; return a; fibonacci(10)`  \u001b[0m\u001b[36;1m\u001b[1;3mSyntaxError: invalid syntax (<unknown>, line 1)\u001b[0m\u001b[32;1m\u001b[1;3mParece que houve um erro de sintaxe no comando Python que eu enviei. Vou corrigir o código para a função Fibonacci e então executá-la para obter o décimo valor da sequência.\n",
      "\n",
      "Action: python_repl_ast  \n",
      "Action Input: `def fibonacci(n): a, b = 0, 1; for _ in range(n): a, b = b, a + b; return a; fibonacci(10)`  \u001b[0m\u001b[36;1m\u001b[1;3mSyntaxError: invalid syntax (<unknown>, line 1)\u001b[0m\u001b[32;1m\u001b[1;3mParece que o código que tentei executar tem um erro de sintaxe. Preciso alterar a forma como estou definindo e chamando a função. Vou simplificar o processo para calcular o décimo valor da sequência de Fibonacci.\n",
      "\n",
      "Action: python_repl_ast  \n",
      "Action Input: `def fibonacci(n): a, b = 0, 1; for _ in range(n): a, b = b, a + b; return a; fibonacci(10)`  \u001b[0m\u001b[36;1m\u001b[1;3mSyntaxError: invalid syntax (<unknown>, line 1)\u001b[0m\u001b[32;1m\u001b[1;3mO código que estou tentando executar não está adequado para a sintaxe Python no ambiente atual. Vou dividir a definição da função e a chamada em duas etapas diferentes.\n",
      "\n",
      "Action: python_repl_ast  \n",
      "Action Input: `def fibonacci(n): a, b = 0, 1; for _ in range(n): a, b = b, a + b; return a`  \u001b[0m\u001b[36;1m\u001b[1;3mSyntaxError: invalid syntax (<unknown>, line 1)\u001b[0m\u001b[32;1m\u001b[1;3mParece que estou enfrentando problemas recorrentes com a sintaxe ao tentar definir a função de Fibonacci. Vou tentar uma abordagem diferente para calcular o décimo valor da sequência de Fibonacci sem definir uma função.\n",
      "\n",
      "Action: python_repl_ast  \n",
      "Action Input: `a, b = 0, 1; for _ in range(10): a, b = b, a + b; a`  \u001b[0m\u001b[36;1m\u001b[1;3mSyntaxError: invalid syntax (<unknown>, line 1)\u001b[0m\u001b[32;1m\u001b[1;3mParece que estou tendo dificuldades em executar o código Python no ambiente atual. O ambiente pode não suportar a definição de funções ou loops complexos. Vou tentar um comando mais simples que me permita calcular o décimo número da sequência de Fibonacci diretamente.\n",
      "\n",
      "Action: python_repl_ast  \n",
      "Action Input: `a, b = 0, 1; for _ in range(10): a, b = b, a + b; a`  \u001b[0m\u001b[36;1m\u001b[1;3mSyntaxError: invalid syntax (<unknown>, line 1)\u001b[0m\u001b[32;1m\u001b[1;3mParece que estou enfrentando dificuldades em executar códigos mais complexos no ambiente atual. Minha abordagem deve ser simplificada ainda mais. Vou tentar usar uma expressão mais direta para calcular o décimo número da sequência de Fibonacci.\n",
      "\n",
      "Action: python_repl_ast  \n",
      "Action Input: `fibonacci_sequence = [0, 1]; for i in range(2, 11): fibonacci_sequence.append(fibonacci_sequence[i-1] + fibonacci_sequence[i-2]); fibonacci_sequence[10]`  \u001b[0m\u001b[36;1m\u001b[1;3mSyntaxError: invalid syntax (<unknown>, line 1)\u001b[0m\u001b[32;1m\u001b[1;3mParece que estou enfrentando dificuldades contínuas com a execução de código no ambiente atual. Vou tentar calcular o décimo número da sequência de Fibonacci usando uma abordagem diferente, de forma mais simples.\n",
      "\n",
      "Action: python_repl_ast  \n",
      "Action Input: `fibonacci_sequence = [0, 1]; [fibonacci_sequence.append(fibonacci_sequence[-1] + fibonacci_sequence[-2]) for _ in range(2, 11)]; fibonacci_sequence[10]`  \u001b[0m\u001b[36;1m\u001b[1;3m55\u001b[0m\u001b[32;1m\u001b[1;3mAgora que consegui calcular o décimo número da sequência de Fibonacci, que é 55, posso concluir.\n",
      "\n",
      "Final Answer: 55\u001b[0m\n",
      "\n",
      "\u001b[1m> Finished chain.\u001b[0m\n"
     ]
    },
    {
     "data": {
      "text/plain": [
       "{'input': 'Qual é o décimo valor da sequência fibonacci?', 'output': '55'}"
      ]
     },
     "execution_count": 13,
     "metadata": {},
     "output_type": "execute_result"
    }
   ],
   "source": [
    "agent_executor.invoke({'input': 'Qual é o décimo valor da sequência fibonacci?'})"
   ]
  },
  {
   "cell_type": "code",
   "execution_count": 14,
   "metadata": {},
   "outputs": [
    {
     "name": "stdout",
     "output_type": "stream",
     "text": [
      "\n",
      "\n",
      "\u001b[1m> Entering new AgentExecutor chain...\u001b[0m\n",
      "\u001b[32;1m\u001b[1;3mI can use the Fibonacci sequence formula to generate the 10th value.\n",
      "Action: python_repl_ast\n",
      "Action Input: def fibonacci(n):\n",
      "                    if n <= 1:\n",
      "                        return n\n",
      "                    else:\n",
      "                        return fibonacci(n-1) + fibonacci(n-2)\n",
      "            fibonacci(9)\u001b[0m\u001b[36;1m\u001b[1;3mIndentationError: unindent does not match any outer indentation level (<unknown>, line 6)\u001b[0m\u001b[32;1m\u001b[1;3mI need to fix the indentation in the code before I run it.\n",
      "Action: python_repl_ast\n",
      "Action Input: def fibonacci(n):\n",
      "                    if n <= 1:\n",
      "                        return n\n",
      "                    else:\n",
      "                        return fibonacci(n-1) + fibonacci(n-2)\n",
      "fibonacci(9)\u001b[0m\u001b[36;1m\u001b[1;3mNameError: name 'fibonacci' is not defined\u001b[0m\u001b[32;1m\u001b[1;3mI forgot to define the function before calling it.\n",
      "Action: python_repl_ast\n",
      "Action Input: def fibonacci(n):\n",
      "                    if n <= 1:\n",
      "                        return n\n",
      "                    else:\n",
      "                        return fibonacci(n-1) + fibonacci(n-2)\n",
      "fibonacci(9)\u001b[0m\u001b[36;1m\u001b[1;3mNameError: name 'fibonacci' is not defined\u001b[0m\u001b[32;1m\u001b[1;3mI should define the function using the correct indentation and then call it to find the 10th Fibonacci number.\n",
      "Action: python_repl_ast\n",
      "Action Input: def fibonacci(n):\n",
      "                    if n <= 1:\n",
      "                        return n\n",
      "                    else:\n",
      "                        return fibonacci(n-1) + fibonacci(n-2)\n",
      "\n",
      "fibonacci(9)\u001b[0m\u001b[36;1m\u001b[1;3mNameError: name 'fibonacci' is not defined\u001b[0m\u001b[32;1m\u001b[1;3mI need to correct the function call by specifying the function name before calling it.\n",
      "Action: python_repl_ast\n",
      "Action Input: def fibonacci(n):\n",
      "                    if n <= 1:\n",
      "                        return n\n",
      "                    else:\n",
      "                        return fibonacci(n-1) + fibonacci(n-2)\n",
      "\n",
      "fibonacci(10)\u001b[0m\u001b[36;1m\u001b[1;3mNameError: name 'fibonacci' is not defined\u001b[0m\u001b[32;1m\u001b[1;3mI need to define the function correctly with the correct indentation and fix the function call as well.\n",
      "Action: python_repl_ast\n",
      "Action Input: def fibonacci(n):\n",
      "                    if n <= 1:\n",
      "                        return n\n",
      "                    else:\n",
      "                        return fibonacci(n-1) + fibonacci(n-2)\n",
      "fibonacci(10)\u001b[0m\u001b[36;1m\u001b[1;3mNameError: name 'fibonacci' is not defined\u001b[0m\u001b[32;1m\u001b[1;3mI made a mistake in calling the function. I need to use print statement to display the 10th Fibonacci number.\n",
      "Action: python_repl_ast\n",
      "Action Input: def fibonacci(n):\n",
      "                    if n <= 1:\n",
      "                        return n\n",
      "                    else:\n",
      "                        return fibonacci(n-1) + fibonacci(n-2)\n",
      "print(fibonacci(9))\u001b[0m\u001b[36;1m\u001b[1;3mNameError: name 'fibonacci' is not defined\u001b[0m\u001b[32;1m\u001b[1;3mI need to define the function correctly, then call it with the proper input to find the 10th Fibonacci number.\n",
      "Action: python_repl_ast\n",
      "Action Input: def fibonacci(n):\n",
      "                    if n <= 1:\n",
      "                        return n\n",
      "                    else:\n",
      "                        return fibonacci(n-1) + fibonacci(n-2)\n",
      "fibonacci(9)\u001b[0m\u001b[36;1m\u001b[1;3mNameError: name 'fibonacci' is not defined\u001b[0m\u001b[32;1m\u001b[1;3mI need to correct the function definition and call to properly find the 10th Fibonacci number.\n",
      "Action: python_repl_ast\n",
      "Action Input: def fibonacci(n):\n",
      "                    if n <= 1:\n",
      "                        return n\n",
      "                    else:\n",
      "                        return fibonacci(n-1) + fibonacci(n-2)\n",
      "fibonacci(10)\u001b[0m\u001b[36;1m\u001b[1;3mNameError: name 'fibonacci' is not defined\u001b[0m\u001b[32;1m\u001b[1;3mI should define the function correctly and make sure to return the correct value for the 10th Fibonacci number.\n",
      "Action: python_repl_ast\n",
      "Action Input: def fibonacci(n):\n",
      "                    if n <= 1:\n",
      "                        return n\n",
      "                    else:\n",
      "                        return fibonacci(n-1) + fibonacci(n-2)\n",
      "                    return fibonacci(9)\u001b[0m\u001b[36;1m\u001b[1;3m\u001b[0m\u001b[32;1m\u001b[1;3mI made an error in the return statement. I should not be recursively calling the function within the return statement.\n",
      "Action: python_repl_ast\n",
      "Action Input: def fibonacci(n):\n",
      "                    if n <= 1:\n",
      "                        return n\n",
      "                    else:\n",
      "                        return fibonacci(n-1) + fibonacci(n-2)\n",
      "                    return n\n",
      "                    \u001b[0m\u001b[36;1m\u001b[1;3m\u001b[0m\u001b[32;1m\u001b[1;3mI should correct the return statement so that it returns the Fibonacci number for the given input n.\n",
      "Action: python_repl_ast\n",
      "Action Input: def fibonacci(n):\n",
      "                    if n <= 1:\n",
      "                        return n\n",
      "                    else:\n",
      "                        return fibonacci(n-1) + fibonacci(n-2)\n",
      "                    return n\n",
      "fibonacci(10)\u001b[0m\u001b[36;1m\u001b[1;3mNameError: name 'fibonacci' is not defined\u001b[0m\u001b[32;1m\u001b[1;3mI need to call the function correctly to observe the 10th value of the Fibonacci sequence.\n",
      "Action: python_repl_ast\n",
      "Action Input: def fibonacci(n):\n",
      "                    if n <= 1:\n",
      "                        return n\n",
      "                    else:\n",
      "                        return fibonacci(n-1) + fibonacci(n-2)\n",
      "                    return n\n",
      "print(fibonacci(10))\u001b[0m\u001b[36;1m\u001b[1;3mNameError: name 'fibonacci' is not defined\u001b[0m\u001b[32;1m\u001b[1;3mI need to define the function properly and correct the function call in order to find the 10th Fibonacci number.\n",
      "Action: python_repl_ast\n",
      "Action Input: def fibonacci(n):\n",
      "                    if n <= 1:\n",
      "                        return n\n",
      "                    else:\n",
      "                        return fibonacci(n-1) + fibonacci(n-2)\n",
      "                    return n\n",
      "\u001b[0m\u001b[36;1m\u001b[1;3m\u001b[0m\u001b[32;1m\u001b[1;3mI need to define the function correctly and call it with the proper input to find the 10th Fibonacci number.\n",
      "Action: python_repl_ast\n",
      "Action Input: def fibonacci(n):\n",
      "                    if n <= 1:\n",
      "                        return n\n",
      "                    else:\n",
      "                        return fibonacci(n-1) + fibonacci(n-2)\n",
      "fibonacci(9)\u001b[0m\u001b[36;1m\u001b[1;3mNameError: name 'fibonacci' is not defined\u001b[0m\u001b[32;1m\u001b[1;3m\u001b[0m\n",
      "\n",
      "\u001b[1m> Finished chain.\u001b[0m\n"
     ]
    },
    {
     "data": {
      "text/plain": [
       "{'input': 'Qual é o décimo valor da sequência fibonacci?',\n",
       " 'output': 'Agent stopped due to iteration limit or time limit.'}"
      ]
     },
     "execution_count": 14,
     "metadata": {},
     "output_type": "execute_result"
    }
   ],
   "source": [
    "from langchain.prompts import PromptTemplate\n",
    "\n",
    "prompt = PromptTemplate.from_template(\n",
    "'''Answer the following questions as best you can. You have access to the following tools:\n",
    "\n",
    "{tools}\n",
    "\n",
    "Use the following format:\n",
    "\n",
    "Question: the input question you must answer\n",
    "Thought: you should always think about what to do\n",
    "Action: the action to take, should be one of {tool_names}\n",
    "Action Input: the input to the action.\n",
    "Observation: the result of the action\n",
    "... (this Thought/Action/Action Input/Observation can repeat N times)\n",
    "Thought: I now know the final answer\n",
    "Final Answer: the final answer to the original input question\n",
    "\n",
    "Begin!\n",
    "\n",
    "Question: {input}\n",
    "Thought:{agent_scratchpad}'''\n",
    ")\n",
    "\n",
    "chat = ChatOpenAI(model=\"gpt-3.5-turbo-0125\")\n",
    "agent = create_react_agent(chat, tools, prompt)\n",
    "agent_executor = AgentExecutor(agent=agent, tools=tools, verbose=True)\n",
    "\n",
    "agent_executor.invoke({'input': 'Qual é o décimo valor da sequência fibonacci?'})"
   ]
  },
  {
   "cell_type": "code",
   "execution_count": null,
   "metadata": {},
   "outputs": [],
   "source": []
  },
  {
   "cell_type": "code",
   "execution_count": null,
   "metadata": {},
   "outputs": [],
   "source": []
  }
 ],
 "metadata": {
  "kernelspec": {
   "display_name": "base",
   "language": "python",
   "name": "python3"
  },
  "language_info": {
   "codemirror_mode": {
    "name": "ipython",
    "version": 3
   },
   "file_extension": ".py",
   "mimetype": "text/x-python",
   "name": "python",
   "nbconvert_exporter": "python",
   "pygments_lexer": "ipython3",
   "version": "3.12.7"
  }
 },
 "nbformat": 4,
 "nbformat_minor": 2
}
