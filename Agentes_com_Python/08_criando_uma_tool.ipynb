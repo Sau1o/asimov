{
 "cells": [
  {
   "cell_type": "markdown",
   "metadata": {},
   "source": [
    "# Exemplos de tools funcionais\n",
    "\n",
    "Agora vamos abordar a criação de duas tools com utilidade real para você entender como seria todo o processo."
   ]
  },
  {
   "cell_type": "markdown",
   "metadata": {},
   "source": [
    "## Criando um tool de busca de temperatura\n",
    "\n",
    "https://open-meteo.com/en/docs"
   ]
  },
  {
   "cell_type": "code",
   "execution_count": 1,
   "metadata": {},
   "outputs": [],
   "source": [
    "import requests\n",
    "import datetime\n",
    "\n",
    "from langchain.agents import tool\n",
    "from pydantic import BaseModel, Field #Importação atualizada\n",
    "\n",
    "class RetornTempArgs(BaseModel):\n",
    "    latitude: float = Field(description='Latitude da localidade que buscamos a temperatura')\n",
    "    longitude: float = Field(description='Longitude da localidade que buscamos a temperatura')\n",
    "\n",
    "\n",
    "@tool(args_schema=RetornTempArgs)\n",
    "def retorna_temperatura_atual(latitude: float, longitude: float):\n",
    "    '''Retorna a temperatura atual para uma dada coordenada'''\n",
    "\n",
    "    URL = 'https://api.open-meteo.com/v1/forecast'\n",
    "\n",
    "    params = {\n",
    "        'latitude': latitude,\n",
    "        'longitude': longitude,\n",
    "        'hourly': 'temperature_2m',\n",
    "        'forecast_days': 1,\n",
    "    }\n",
    "\n",
    "    resposta = requests.get(URL, params=params)\n",
    "    if resposta.status_code == 200:\n",
    "        resultado = resposta.json()\n",
    "        \n",
    "        hora_agora = datetime.datetime.now(datetime.UTC).replace(tzinfo=None)\n",
    "        lista_horas = [datetime.datetime.fromisoformat(temp_str) for temp_str in resultado['hourly']['time']]\n",
    "        index_mais_prox = min(range(len(lista_horas)), key=lambda x: abs(lista_horas[x] - hora_agora))\n",
    "\n",
    "        temp_atual = resultado['hourly']['temperature_2m'][index_mais_prox]\n",
    "        return temp_atual\n",
    "    else:\n",
    "        raise Exception(f'Request para API {URL} falhou: {resposta.status_code}')\n"
   ]
  },
  {
   "cell_type": "code",
   "execution_count": 2,
   "metadata": {},
   "outputs": [
    {
     "data": {
      "text/plain": [
       "StructuredTool(name='retorna_temperatura_atual', description='Retorna a temperatura atual para uma dada coordenada', args_schema=<class '__main__.RetornTempArgs'>, func=<function retorna_temperatura_atual at 0x7f5c54b38540>)"
      ]
     },
     "execution_count": 2,
     "metadata": {},
     "output_type": "execute_result"
    }
   ],
   "source": [
    "retorna_temperatura_atual"
   ]
  },
  {
   "cell_type": "code",
   "execution_count": 3,
   "metadata": {},
   "outputs": [
    {
     "data": {
      "text/plain": [
       "{'latitude': {'description': 'Latitude da localidade que buscamos a temperatura',\n",
       "  'title': 'Latitude',\n",
       "  'type': 'number'},\n",
       " 'longitude': {'description': 'Longitude da localidade que buscamos a temperatura',\n",
       "  'title': 'Longitude',\n",
       "  'type': 'number'}}"
      ]
     },
     "execution_count": 3,
     "metadata": {},
     "output_type": "execute_result"
    }
   ],
   "source": [
    "retorna_temperatura_atual.args"
   ]
  },
  {
   "cell_type": "markdown",
   "metadata": {},
   "source": [
    "### Testando a tool"
   ]
  },
  {
   "cell_type": "code",
   "execution_count": 5,
   "metadata": {},
   "outputs": [
    {
     "data": {
      "text/plain": [
       "16.2"
      ]
     },
     "execution_count": 5,
     "metadata": {},
     "output_type": "execute_result"
    }
   ],
   "source": [
    "retorna_temperatura_atual.invoke({'latitude': -22, 'longitude': -49})"
   ]
  },
  {
   "cell_type": "markdown",
   "metadata": {},
   "source": [
    "## Criando um tool de busca no wikipedia"
   ]
  },
  {
   "cell_type": "code",
   "execution_count": 6,
   "metadata": {},
   "outputs": [],
   "source": [
    "import wikipedia\n",
    "wikipedia.set_lang('pt')\n",
    "\n",
    "@tool\n",
    "def busca_wikipedia(query: str):\n",
    "    \"\"\"Faz busca no wikipedia e retorna resumos de páginas para a query\"\"\"\n",
    "    titulos_paginas = wikipedia.search(query)\n",
    "    resumos = []\n",
    "    for titulo in titulos_paginas[:3]:\n",
    "        try:\n",
    "            wiki_page = wikipedia.page(title=titulo, auto_suggest=True)\n",
    "            resumos.append(f'Título da página: {titulo}\\nResumo: {wiki_page.summary}')\n",
    "        except:\n",
    "            pass\n",
    "    if not resumos:\n",
    "        return 'Busca não teve retorno'\n",
    "    else:\n",
    "        return '\\n\\n'.join(resumos)"
   ]
  },
  {
   "cell_type": "code",
   "execution_count": 7,
   "metadata": {},
   "outputs": [
    {
     "data": {
      "text/plain": [
       "'Título da página: Futebol\\nResumo: O futebol (em inglês: football, soccer) - originalmente futebol associado (em inglês: association football), e também referido como futebol de campoou futebol de onze - é um esporte de equipe jogado entre dois times de 11 jogadores cada um e um árbitro que se ocupa da correta aplicação das normas. É considerado o desporto mais popular do mundo, pois cerca de 270 milhões de pessoas participam das suas várias competições. É jogado num campo retangular gramado, com uma baliza em cada lado do campo. O objetivo do jogo é deslocar uma bola através do campo para colocá-la dentro da baliza adversária, ação que se denomina gol(pt-BR) ou golo(pt-PT?). A equipe que marca mais gols ao término da partida é a vencedora.\\nO jogo moderno foi criado na Inglaterra com a formação de The Football Association, cujas regras de 1863 são a base do desporto na atualidade. O órgão regente do futebol é a Federação Internacional de Futebol (em francês: Fédération Internationale de Football Association), mais conhecida pelo acrônimo FIFA. A principal competição internacional de futebol é a Copa do Mundo FIFA, realizada a cada quatro anos. Este evento é o mais famoso e com maior quantidade de espectadores do mundo, o dobro da audiência dos Jogos Olímpicos.\\n\\nTítulo da página: Seleção Brasileira de Futebol\\nResumo: A Seleção Brasileira de Futebol, administrada pela CBF (Confederação Brasileira de Futebol), uma associação privada, representa o Brasil nas competições de futebol da CONMEBOL e FIFA.\\nFormada em 1914 e considerada um dos maiores símbolos do país, também chamada de \"Canarinha\" ou \"Seleção Canarinha\", é a seleção mais bem-sucedida da história do futebol mundial, sendo a recordista em conquistas em Copas do Mundo, com cinco títulos invictos (1958, 1962, 1970, 1994 e 2002) e quatro títulos da Copa das Confederações FIFA (1997, 2005, 2009 e 2013, competição na qual também é a maior vencedora da história).\\nDentre outras conquistas importantes, a seleção detém nove títulos da Copa América (1919, 1922, 1949, 1989, 1997, 1999, 2004, 2007 e 2019). Nos Jogos Olímpicos de 2016, sediados no Rio de Janeiro, conquistou pela primeira vez a medalha de ouro, vencendo a seleção alemã nos pênaltis. O feito se repetiu em 2021, no Japão quanto conquistou a medalha de ouro no futebol pela segunda vez. Em ambas oportunidades, a Seleção Brasileira conquistou as medalhas de ouro de maneira invicta.\\nA Seleção Brasileira é muito lembrada quando se fala de futebol arte já que, desde 1958 engrandece o futebol mundial com grandes nomes que com a amarelinha impressionaram e fizeram história. Pelé lidera a longa lista de craques brasileiros, considerado um dos maiores jogadores de todos os tempos. Contemporâneo de Pelé, Garrincha, o eterno \"anjo das pernas tortas\" de dribles desconcertantes, abrilhantou os gramados com seu futebol. Outros grandes que encantaram não só o Brasil mas o mundo foram Didi, Nílton Santos, Djalma Santos, Rivellino, Gérson, Jairzinho, Carlos Alberto Torres, Tostão, Júnior, Zico, Sócrates, Roberto Dinamite, Falcão, Taffarel, Romário, Bebeto, Cafu, Roberto Carlos, Ronaldo, Rivaldo, Ronaldinho, Kaká, Robinho, Adriano, e, atualmente, Neymar e Vinícius Júnior.\\n\\nTítulo da página: Federação Internacional de Futebol\\nResumo: A Federação Internacional de Futebol, por vezes referida como Federação Internacional de Futebol Associação (em francês: Fédération Internationale de Football Association), mais conhecida pelo acrônimo FIFA, é uma organização sem fins lucrativos internacional que dirige as associações de futsal, futebol de areia(pt-BR) ou futebol de praia(pt-PT?) e futebol, o esporte coletivo mais popular do mundo. Filiada ao Comitê Olímpico Internacional, a FIFA foi fundada em Paris em 21 de maio de 1904 e tem sua sede em Zurique, na Suíça.\\nAo todo, possui 211 organizações esportivas privadas associadas representando o esporte em países ou territórios. Com esse número, é a instituição internacional que possui a segunda maior quantidade de associados, inclusive mais associados do que a Organização das Nações Unidas e o Comitê Olímpico Internacional, que possuem, respectivamente, 193 e 205 membros cada. Ficando atrás somente da World Athletics, que possui 212 membros.\\nA FIFA tem quatro idiomas: alemão, espanhol, francês e inglês. Além delas, também apresenta atualmente notícias e informações no seu site oficial em árabe e português (variante brasileira). No entanto, a versão do site em português saiu do ar no final de 2014. O seu atual presidente é Gianni Infantino.\\nEm 2 de junho de 2015, três dias após a reeleição para o quinto mandato, Joseph Blatter anunciou a realização de uma nova reunião extraordinária, entre dezembro de 2015 e março de 2016, para a eleição de um novo presidente para a entidade. Nesta nova eleição ele não concorrerá ao cargo, mas permanecerá até que o novo presidente seja conhecido.'"
      ]
     },
     "execution_count": 7,
     "metadata": {},
     "output_type": "execute_result"
    }
   ],
   "source": [
    "busca_wikipedia.invoke({'query': 'futebol'})"
   ]
  },
  {
   "cell_type": "markdown",
   "metadata": {},
   "source": [
    "### Testando a tool"
   ]
  },
  {
   "cell_type": "code",
   "execution_count": 9,
   "metadata": {},
   "outputs": [],
   "source": [
    "from langchain.prompts import ChatPromptTemplate\n",
    "from langchain_openai import ChatOpenAI\n",
    "from langchain_core.utils.function_calling import convert_to_openai_function\n",
    "\n",
    "from dotenv import load_dotenv, find_dotenv\n",
    "\n",
    "_ = load_dotenv(find_dotenv())\n",
    "\n",
    "prompt = ChatPromptTemplate.from_messages([\n",
    "    ('system', 'Você é um assistente amigável chamado Isaac'),\n",
    "    ('user', '{input}')\n",
    "])\n",
    "chat = ChatOpenAI()\n",
    "\n",
    "tools = [convert_to_openai_function(busca_wikipedia), convert_to_openai_function(retorna_temperatura_atual)]\n",
    "chain = prompt | chat.bind(functions=tools)\n"
   ]
  },
  {
   "cell_type": "code",
   "execution_count": 10,
   "metadata": {},
   "outputs": [
    {
     "data": {
      "text/plain": [
       "AIMessage(content='Olá! Como posso ajudar você hoje?', additional_kwargs={'refusal': None}, response_metadata={'token_usage': {'completion_tokens': 13, 'prompt_tokens': 126, 'total_tokens': 139, 'completion_tokens_details': {'accepted_prediction_tokens': 0, 'audio_tokens': 0, 'reasoning_tokens': 0, 'rejected_prediction_tokens': 0}, 'prompt_tokens_details': {'audio_tokens': 0, 'cached_tokens': 0}}, 'model_name': 'gpt-3.5-turbo-0125', 'system_fingerprint': None, 'finish_reason': 'stop', 'logprobs': None}, id='run-c9e3b046-5f71-4fd7-a8d4-f963431aad71-0', usage_metadata={'input_tokens': 126, 'output_tokens': 13, 'total_tokens': 139, 'input_token_details': {'audio': 0, 'cache_read': 0}, 'output_token_details': {'audio': 0, 'reasoning': 0}})"
      ]
     },
     "execution_count": 10,
     "metadata": {},
     "output_type": "execute_result"
    }
   ],
   "source": [
    "chain.invoke({'input': 'Olá'})"
   ]
  },
  {
   "cell_type": "code",
   "execution_count": 11,
   "metadata": {},
   "outputs": [
    {
     "data": {
      "text/plain": [
       "AIMessage(content='', additional_kwargs={'function_call': {'arguments': '{\"latitude\":-30.0331,\"longitude\":-51.23}', 'name': 'retorna_temperatura_atual'}, 'refusal': None}, response_metadata={'token_usage': {'completion_tokens': 28, 'prompt_tokens': 134, 'total_tokens': 162, 'completion_tokens_details': {'accepted_prediction_tokens': 0, 'audio_tokens': 0, 'reasoning_tokens': 0, 'rejected_prediction_tokens': 0}, 'prompt_tokens_details': {'audio_tokens': 0, 'cached_tokens': 0}}, 'model_name': 'gpt-3.5-turbo-0125', 'system_fingerprint': None, 'finish_reason': 'function_call', 'logprobs': None}, id='run-9c8c96a0-8bbf-44b1-b969-007adfa6951a-0', usage_metadata={'input_tokens': 134, 'output_tokens': 28, 'total_tokens': 162, 'input_token_details': {'audio': 0, 'cache_read': 0}, 'output_token_details': {'audio': 0, 'reasoning': 0}})"
      ]
     },
     "execution_count": 11,
     "metadata": {},
     "output_type": "execute_result"
    }
   ],
   "source": [
    "chain.invoke({'input': 'Qual é a temperatura de Porto Alegre?'})"
   ]
  },
  {
   "cell_type": "code",
   "execution_count": 12,
   "metadata": {},
   "outputs": [
    {
     "data": {
      "text/plain": [
       "AIMessage(content='', additional_kwargs={'function_call': {'arguments': '{\"query\":\"Isaac Asimov\"}', 'name': 'busca_wikipedia'}, 'refusal': None}, response_metadata={'token_usage': {'completion_tokens': 21, 'prompt_tokens': 132, 'total_tokens': 153, 'completion_tokens_details': {'accepted_prediction_tokens': 0, 'audio_tokens': 0, 'reasoning_tokens': 0, 'rejected_prediction_tokens': 0}, 'prompt_tokens_details': {'audio_tokens': 0, 'cached_tokens': 0}}, 'model_name': 'gpt-3.5-turbo-0125', 'system_fingerprint': None, 'finish_reason': 'function_call', 'logprobs': None}, id='run-efe28917-b78d-4f2c-b85a-b01e032d6352-0', usage_metadata={'input_tokens': 132, 'output_tokens': 21, 'total_tokens': 153, 'input_token_details': {'audio': 0, 'cache_read': 0}, 'output_token_details': {'audio': 0, 'reasoning': 0}})"
      ]
     },
     "execution_count": 12,
     "metadata": {},
     "output_type": "execute_result"
    }
   ],
   "source": [
    "chain.invoke({'input': 'Quem foi Isaac Asimov?'})"
   ]
  },
  {
   "cell_type": "code",
   "execution_count": null,
   "metadata": {},
   "outputs": [],
   "source": []
  }
 ],
 "metadata": {
  "kernelspec": {
   "display_name": "base",
   "language": "python",
   "name": "python3"
  },
  "language_info": {
   "codemirror_mode": {
    "name": "ipython",
    "version": 3
   },
   "file_extension": ".py",
   "mimetype": "text/x-python",
   "name": "python",
   "nbconvert_exporter": "python",
   "pygments_lexer": "ipython3",
   "version": "3.12.7"
  }
 },
 "nbformat": 4,
 "nbformat_minor": 2
}
